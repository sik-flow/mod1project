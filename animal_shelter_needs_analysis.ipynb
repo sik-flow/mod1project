{
 "cells": [
  {
   "cell_type": "markdown",
   "metadata": {},
   "source": [
    "# Austin Animal Center Needs Analysis\n",
    "\n",
    "![Austin-shelter](./images/austin-animal-center.jpg)"
   ]
  },
  {
   "cell_type": "markdown",
   "metadata": {},
   "source": [
    "## Overview\n",
    "\n",
    "This project analyzes the resource needs of the [Austin Animal Center](https://www.austintexas.gov/department/aac) (AAC), which shelters 16,000 animals annually with a [No Kill policy](https://www.austintexas.gov/blog/no-kill-austin). Descriptive analysis of animal intake and outcome data shows that some animals require extended stays and that the number of sheltered animals varies seasonally. The Austin Animal Center can use this analysis to adjust outreach, hiring, and space utilization to improve resource allocation."
   ]
  },
  {
   "cell_type": "markdown",
   "metadata": {
    "slideshow": {
     "slide_type": "slide"
    }
   },
   "source": [
    "## Business Problem\n",
    "\n",
    "![img](./images/animals.png)\n",
    "\n",
    "The Austin Animal Shelter may be able to improve their resource allocation to both reduce costs and ensure that the center has staff and space to care for the animals brought to them. Doing so will allow the Austin Animal Shelter to better serve its clients while also freeing up resources to expand the scope of services they can offer. Using AAC's animal intake and outcome data, I describe patterns in intakes, stays, and exits to anticipate AAC's outreach, space, and staffing needs for supporting sheltered animals."
   ]
  },
  {
   "cell_type": "markdown",
   "metadata": {},
   "source": [
    "## Data Understanding\n",
    "\n",
    "![img2](./images/pet-resource-center-og.jpg)\n",
    "\n",
    "The Austin Animal Center has the longest running public dataset of animal rescues in the country. Every animal has a unique ID associated with both their [intake](https://data.austintexas.gov/Health-and-Community-Services/Austin-Animal-Center-Intakes/wter-evkm) and [outcome](https://data.austintexas.gov/Health-and-Community-Services/Austin-Animal-Center-Outcomes/9t4d-g238) data. The data files provide the dates and types of each event, as well as other animal characteristics (e.g. type, sex). "
   ]
  },
  {
   "cell_type": "code",
   "execution_count": 143,
   "metadata": {},
   "outputs": [],
   "source": [
    "import pandas as pd\n",
    "import numpy as np"
   ]
  },
  {
   "cell_type": "code",
   "execution_count": 144,
   "metadata": {},
   "outputs": [],
   "source": [
    "intakes = pd.read_csv('./data/Austin_Animal_Center_Intakes_082620.csv')\n",
    "outcomes = pd.read_csv('./data/Austin_Animal_Center_Outcomes_082620.csv')"
   ]
  },
  {
   "cell_type": "code",
   "execution_count": 145,
   "metadata": {
    "scrolled": true
   },
   "outputs": [
    {
     "name": "stdout",
     "output_type": "stream",
     "text": [
      "<class 'pandas.core.frame.DataFrame'>\n",
      "RangeIndex: 119853 entries, 0 to 119852\n",
      "Data columns (total 12 columns):\n",
      " #   Column            Non-Null Count   Dtype \n",
      "---  ------            --------------   ----- \n",
      " 0   Animal ID         119853 non-null  object\n",
      " 1   Name              82042 non-null   object\n",
      " 2   DateTime          119853 non-null  object\n",
      " 3   MonthYear         119853 non-null  object\n",
      " 4   Found Location    119853 non-null  object\n",
      " 5   Intake Type       119853 non-null  object\n",
      " 6   Intake Condition  119853 non-null  object\n",
      " 7   Animal Type       119853 non-null  object\n",
      " 8   Sex upon Intake   119852 non-null  object\n",
      " 9   Age upon Intake   119853 non-null  object\n",
      " 10  Breed             119853 non-null  object\n",
      " 11  Color             119853 non-null  object\n",
      "dtypes: object(12)\n",
      "memory usage: 11.0+ MB\n"
     ]
    }
   ],
   "source": [
    "intakes.info()"
   ]
  },
  {
   "cell_type": "code",
   "execution_count": 146,
   "metadata": {
    "scrolled": false
   },
   "outputs": [
    {
     "name": "stdout",
     "output_type": "stream",
     "text": [
      "<class 'pandas.core.frame.DataFrame'>\n",
      "RangeIndex: 119962 entries, 0 to 119961\n",
      "Data columns (total 12 columns):\n",
      " #   Column            Non-Null Count   Dtype \n",
      "---  ------            --------------   ----- \n",
      " 0   Animal ID         119962 non-null  object\n",
      " 1   Name              82265 non-null   object\n",
      " 2   DateTime          119962 non-null  object\n",
      " 3   MonthYear         119962 non-null  object\n",
      " 4   Date of Birth     119962 non-null  object\n",
      " 5   Outcome Type      119956 non-null  object\n",
      " 6   Outcome Subtype   54873 non-null   object\n",
      " 7   Animal Type       119962 non-null  object\n",
      " 8   Sex upon Outcome  119961 non-null  object\n",
      " 9   Age upon Outcome  119959 non-null  object\n",
      " 10  Breed             119962 non-null  object\n",
      " 11  Color             119962 non-null  object\n",
      "dtypes: object(12)\n",
      "memory usage: 11.0+ MB\n"
     ]
    }
   ],
   "source": [
    "outcomes.info()"
   ]
  },
  {
   "cell_type": "markdown",
   "metadata": {},
   "source": [
    "### Intake Data"
   ]
  },
  {
   "cell_type": "markdown",
   "metadata": {},
   "source": [
    "The intake dataset includes records from October 2013 to August 2020, and includes a wide variety of intake types, intake conditions, and animal types."
   ]
  },
  {
   "cell_type": "code",
   "execution_count": 147,
   "metadata": {},
   "outputs": [
    {
     "data": {
      "text/html": [
       "<div>\n",
       "<style scoped>\n",
       "    .dataframe tbody tr th:only-of-type {\n",
       "        vertical-align: middle;\n",
       "    }\n",
       "\n",
       "    .dataframe tbody tr th {\n",
       "        vertical-align: top;\n",
       "    }\n",
       "\n",
       "    .dataframe thead th {\n",
       "        text-align: right;\n",
       "    }\n",
       "</style>\n",
       "<table border=\"1\" class=\"dataframe\">\n",
       "  <thead>\n",
       "    <tr style=\"text-align: right;\">\n",
       "      <th></th>\n",
       "      <th>Animal ID</th>\n",
       "      <th>Name</th>\n",
       "      <th>DateTime</th>\n",
       "      <th>MonthYear</th>\n",
       "      <th>Found Location</th>\n",
       "      <th>Intake Type</th>\n",
       "      <th>Intake Condition</th>\n",
       "      <th>Animal Type</th>\n",
       "      <th>Sex upon Intake</th>\n",
       "      <th>Age upon Intake</th>\n",
       "      <th>Breed</th>\n",
       "      <th>Color</th>\n",
       "    </tr>\n",
       "  </thead>\n",
       "  <tbody>\n",
       "    <tr>\n",
       "      <th>0</th>\n",
       "      <td>A786884</td>\n",
       "      <td>*Brock</td>\n",
       "      <td>01/03/2019 04:19:00 PM</td>\n",
       "      <td>01/03/2019 04:19:00 PM</td>\n",
       "      <td>2501 Magin Meadow Dr in Austin (TX)</td>\n",
       "      <td>Stray</td>\n",
       "      <td>Normal</td>\n",
       "      <td>Dog</td>\n",
       "      <td>Neutered Male</td>\n",
       "      <td>2 years</td>\n",
       "      <td>Beagle Mix</td>\n",
       "      <td>Tricolor</td>\n",
       "    </tr>\n",
       "    <tr>\n",
       "      <th>1</th>\n",
       "      <td>A706918</td>\n",
       "      <td>Belle</td>\n",
       "      <td>07/05/2015 12:59:00 PM</td>\n",
       "      <td>07/05/2015 12:59:00 PM</td>\n",
       "      <td>9409 Bluegrass Dr in Austin (TX)</td>\n",
       "      <td>Stray</td>\n",
       "      <td>Normal</td>\n",
       "      <td>Dog</td>\n",
       "      <td>Spayed Female</td>\n",
       "      <td>8 years</td>\n",
       "      <td>English Springer Spaniel</td>\n",
       "      <td>White/Liver</td>\n",
       "    </tr>\n",
       "    <tr>\n",
       "      <th>2</th>\n",
       "      <td>A724273</td>\n",
       "      <td>Runster</td>\n",
       "      <td>04/14/2016 06:43:00 PM</td>\n",
       "      <td>04/14/2016 06:43:00 PM</td>\n",
       "      <td>2818 Palomino Trail in Austin (TX)</td>\n",
       "      <td>Stray</td>\n",
       "      <td>Normal</td>\n",
       "      <td>Dog</td>\n",
       "      <td>Intact Male</td>\n",
       "      <td>11 months</td>\n",
       "      <td>Basenji Mix</td>\n",
       "      <td>Sable/White</td>\n",
       "    </tr>\n",
       "    <tr>\n",
       "      <th>3</th>\n",
       "      <td>A665644</td>\n",
       "      <td>NaN</td>\n",
       "      <td>10/21/2013 07:59:00 AM</td>\n",
       "      <td>10/21/2013 07:59:00 AM</td>\n",
       "      <td>Austin (TX)</td>\n",
       "      <td>Stray</td>\n",
       "      <td>Sick</td>\n",
       "      <td>Cat</td>\n",
       "      <td>Intact Female</td>\n",
       "      <td>4 weeks</td>\n",
       "      <td>Domestic Shorthair Mix</td>\n",
       "      <td>Calico</td>\n",
       "    </tr>\n",
       "    <tr>\n",
       "      <th>4</th>\n",
       "      <td>A682524</td>\n",
       "      <td>Rio</td>\n",
       "      <td>06/29/2014 10:38:00 AM</td>\n",
       "      <td>06/29/2014 10:38:00 AM</td>\n",
       "      <td>800 Grove Blvd in Austin (TX)</td>\n",
       "      <td>Stray</td>\n",
       "      <td>Normal</td>\n",
       "      <td>Dog</td>\n",
       "      <td>Neutered Male</td>\n",
       "      <td>4 years</td>\n",
       "      <td>Doberman Pinsch/Australian Cattle Dog</td>\n",
       "      <td>Tan/Gray</td>\n",
       "    </tr>\n",
       "  </tbody>\n",
       "</table>\n",
       "</div>"
      ],
      "text/plain": [
       "  Animal ID     Name                DateTime               MonthYear  \\\n",
       "0   A786884   *Brock  01/03/2019 04:19:00 PM  01/03/2019 04:19:00 PM   \n",
       "1   A706918    Belle  07/05/2015 12:59:00 PM  07/05/2015 12:59:00 PM   \n",
       "2   A724273  Runster  04/14/2016 06:43:00 PM  04/14/2016 06:43:00 PM   \n",
       "3   A665644      NaN  10/21/2013 07:59:00 AM  10/21/2013 07:59:00 AM   \n",
       "4   A682524      Rio  06/29/2014 10:38:00 AM  06/29/2014 10:38:00 AM   \n",
       "\n",
       "                        Found Location Intake Type Intake Condition  \\\n",
       "0  2501 Magin Meadow Dr in Austin (TX)       Stray           Normal   \n",
       "1     9409 Bluegrass Dr in Austin (TX)       Stray           Normal   \n",
       "2   2818 Palomino Trail in Austin (TX)       Stray           Normal   \n",
       "3                          Austin (TX)       Stray             Sick   \n",
       "4        800 Grove Blvd in Austin (TX)       Stray           Normal   \n",
       "\n",
       "  Animal Type Sex upon Intake Age upon Intake  \\\n",
       "0         Dog   Neutered Male         2 years   \n",
       "1         Dog   Spayed Female         8 years   \n",
       "2         Dog     Intact Male       11 months   \n",
       "3         Cat   Intact Female         4 weeks   \n",
       "4         Dog   Neutered Male         4 years   \n",
       "\n",
       "                                   Breed        Color  \n",
       "0                             Beagle Mix     Tricolor  \n",
       "1               English Springer Spaniel  White/Liver  \n",
       "2                            Basenji Mix  Sable/White  \n",
       "3                 Domestic Shorthair Mix       Calico  \n",
       "4  Doberman Pinsch/Australian Cattle Dog     Tan/Gray  "
      ]
     },
     "execution_count": 147,
     "metadata": {},
     "output_type": "execute_result"
    }
   ],
   "source": [
    "intakes.head()"
   ]
  },
  {
   "cell_type": "code",
   "execution_count": 148,
   "metadata": {},
   "outputs": [
    {
     "data": {
      "text/plain": [
       "count                  119853\n",
       "unique                  84556\n",
       "top       2016-09-23 12:00:00\n",
       "freq                       64\n",
       "first     2013-10-01 07:51:00\n",
       "last      2020-08-26 07:01:00\n",
       "Name: Intake Date, dtype: object"
      ]
     },
     "execution_count": 148,
     "metadata": {},
     "output_type": "execute_result"
    }
   ],
   "source": [
    "intakes['Intake Date'] =  pd.to_datetime(intakes['DateTime'])\n",
    "intakes['Intake Date'].describe()"
   ]
  },
  {
   "cell_type": "code",
   "execution_count": 149,
   "metadata": {},
   "outputs": [
    {
     "data": {
      "text/plain": [
       "Stray                 83873\n",
       "Owner Surrender       23493\n",
       "Public Assist          7349\n",
       "Wildlife               4702\n",
       "Euthanasia Request      257\n",
       "Abandoned               179\n",
       "Name: Intake Type, dtype: int64"
      ]
     },
     "execution_count": 149,
     "metadata": {},
     "output_type": "execute_result"
    }
   ],
   "source": [
    "intakes['Intake Type'].value_counts()"
   ]
  },
  {
   "cell_type": "code",
   "execution_count": 150,
   "metadata": {
    "scrolled": true
   },
   "outputs": [
    {
     "data": {
      "text/plain": [
       "Normal      104686\n",
       "Injured       6196\n",
       "Sick          4775\n",
       "Nursing       3330\n",
       "Aged           414\n",
       "Other          221\n",
       "Feral          106\n",
       "Pregnant        74\n",
       "Medical         43\n",
       "Behavior         8\n",
       "Name: Intake Condition, dtype: int64"
      ]
     },
     "execution_count": 150,
     "metadata": {},
     "output_type": "execute_result"
    }
   ],
   "source": [
    "intakes['Intake Condition'].value_counts()"
   ]
  },
  {
   "cell_type": "code",
   "execution_count": 151,
   "metadata": {},
   "outputs": [
    {
     "data": {
      "text/plain": [
       "Dog          67990\n",
       "Cat          44947\n",
       "Other         6337\n",
       "Bird           558\n",
       "Livestock       21\n",
       "Name: Animal Type, dtype: int64"
      ]
     },
     "execution_count": 151,
     "metadata": {},
     "output_type": "execute_result"
    }
   ],
   "source": [
    "intakes['Animal Type'].value_counts()"
   ]
  },
  {
   "cell_type": "markdown",
   "metadata": {},
   "source": [
    "### Outcome Data"
   ]
  },
  {
   "cell_type": "markdown",
   "metadata": {},
   "source": [
    "The outcome dataset also includes records from October 2013 to August 2020, and includes a variety of outcome types."
   ]
  },
  {
   "cell_type": "code",
   "execution_count": 152,
   "metadata": {},
   "outputs": [
    {
     "data": {
      "text/html": [
       "<div>\n",
       "<style scoped>\n",
       "    .dataframe tbody tr th:only-of-type {\n",
       "        vertical-align: middle;\n",
       "    }\n",
       "\n",
       "    .dataframe tbody tr th {\n",
       "        vertical-align: top;\n",
       "    }\n",
       "\n",
       "    .dataframe thead th {\n",
       "        text-align: right;\n",
       "    }\n",
       "</style>\n",
       "<table border=\"1\" class=\"dataframe\">\n",
       "  <thead>\n",
       "    <tr style=\"text-align: right;\">\n",
       "      <th></th>\n",
       "      <th>Animal ID</th>\n",
       "      <th>Name</th>\n",
       "      <th>DateTime</th>\n",
       "      <th>MonthYear</th>\n",
       "      <th>Date of Birth</th>\n",
       "      <th>Outcome Type</th>\n",
       "      <th>Outcome Subtype</th>\n",
       "      <th>Animal Type</th>\n",
       "      <th>Sex upon Outcome</th>\n",
       "      <th>Age upon Outcome</th>\n",
       "      <th>Breed</th>\n",
       "      <th>Color</th>\n",
       "    </tr>\n",
       "  </thead>\n",
       "  <tbody>\n",
       "    <tr>\n",
       "      <th>0</th>\n",
       "      <td>A794011</td>\n",
       "      <td>Chunk</td>\n",
       "      <td>05/08/2019 06:20:00 PM</td>\n",
       "      <td>05/08/2019 06:20:00 PM</td>\n",
       "      <td>05/02/2017</td>\n",
       "      <td>Rto-Adopt</td>\n",
       "      <td>NaN</td>\n",
       "      <td>Cat</td>\n",
       "      <td>Neutered Male</td>\n",
       "      <td>2 years</td>\n",
       "      <td>Domestic Shorthair Mix</td>\n",
       "      <td>Brown Tabby/White</td>\n",
       "    </tr>\n",
       "    <tr>\n",
       "      <th>1</th>\n",
       "      <td>A776359</td>\n",
       "      <td>Gizmo</td>\n",
       "      <td>07/18/2018 04:02:00 PM</td>\n",
       "      <td>07/18/2018 04:02:00 PM</td>\n",
       "      <td>07/12/2017</td>\n",
       "      <td>Adoption</td>\n",
       "      <td>NaN</td>\n",
       "      <td>Dog</td>\n",
       "      <td>Neutered Male</td>\n",
       "      <td>1 year</td>\n",
       "      <td>Chihuahua Shorthair Mix</td>\n",
       "      <td>White/Brown</td>\n",
       "    </tr>\n",
       "    <tr>\n",
       "      <th>2</th>\n",
       "      <td>A720371</td>\n",
       "      <td>Moose</td>\n",
       "      <td>02/13/2016 05:59:00 PM</td>\n",
       "      <td>02/13/2016 05:59:00 PM</td>\n",
       "      <td>10/08/2015</td>\n",
       "      <td>Adoption</td>\n",
       "      <td>NaN</td>\n",
       "      <td>Dog</td>\n",
       "      <td>Neutered Male</td>\n",
       "      <td>4 months</td>\n",
       "      <td>Anatol Shepherd/Labrador Retriever</td>\n",
       "      <td>Buff</td>\n",
       "    </tr>\n",
       "    <tr>\n",
       "      <th>3</th>\n",
       "      <td>A674754</td>\n",
       "      <td>NaN</td>\n",
       "      <td>03/18/2014 11:47:00 AM</td>\n",
       "      <td>03/18/2014 11:47:00 AM</td>\n",
       "      <td>03/12/2014</td>\n",
       "      <td>Transfer</td>\n",
       "      <td>Partner</td>\n",
       "      <td>Cat</td>\n",
       "      <td>Intact Male</td>\n",
       "      <td>6 days</td>\n",
       "      <td>Domestic Shorthair Mix</td>\n",
       "      <td>Orange Tabby</td>\n",
       "    </tr>\n",
       "    <tr>\n",
       "      <th>4</th>\n",
       "      <td>A689724</td>\n",
       "      <td>*Donatello</td>\n",
       "      <td>10/18/2014 06:52:00 PM</td>\n",
       "      <td>10/18/2014 06:52:00 PM</td>\n",
       "      <td>08/01/2014</td>\n",
       "      <td>Adoption</td>\n",
       "      <td>NaN</td>\n",
       "      <td>Cat</td>\n",
       "      <td>Neutered Male</td>\n",
       "      <td>2 months</td>\n",
       "      <td>Domestic Shorthair Mix</td>\n",
       "      <td>Black</td>\n",
       "    </tr>\n",
       "  </tbody>\n",
       "</table>\n",
       "</div>"
      ],
      "text/plain": [
       "  Animal ID        Name                DateTime               MonthYear  \\\n",
       "0   A794011       Chunk  05/08/2019 06:20:00 PM  05/08/2019 06:20:00 PM   \n",
       "1   A776359       Gizmo  07/18/2018 04:02:00 PM  07/18/2018 04:02:00 PM   \n",
       "2   A720371       Moose  02/13/2016 05:59:00 PM  02/13/2016 05:59:00 PM   \n",
       "3   A674754         NaN  03/18/2014 11:47:00 AM  03/18/2014 11:47:00 AM   \n",
       "4   A689724  *Donatello  10/18/2014 06:52:00 PM  10/18/2014 06:52:00 PM   \n",
       "\n",
       "  Date of Birth Outcome Type Outcome Subtype Animal Type Sex upon Outcome  \\\n",
       "0    05/02/2017    Rto-Adopt             NaN         Cat    Neutered Male   \n",
       "1    07/12/2017     Adoption             NaN         Dog    Neutered Male   \n",
       "2    10/08/2015     Adoption             NaN         Dog    Neutered Male   \n",
       "3    03/12/2014     Transfer         Partner         Cat      Intact Male   \n",
       "4    08/01/2014     Adoption             NaN         Cat    Neutered Male   \n",
       "\n",
       "  Age upon Outcome                               Breed              Color  \n",
       "0          2 years              Domestic Shorthair Mix  Brown Tabby/White  \n",
       "1           1 year             Chihuahua Shorthair Mix        White/Brown  \n",
       "2         4 months  Anatol Shepherd/Labrador Retriever               Buff  \n",
       "3           6 days              Domestic Shorthair Mix       Orange Tabby  \n",
       "4         2 months              Domestic Shorthair Mix              Black  "
      ]
     },
     "execution_count": 152,
     "metadata": {},
     "output_type": "execute_result"
    }
   ],
   "source": [
    "outcomes.head()"
   ]
  },
  {
   "cell_type": "code",
   "execution_count": 153,
   "metadata": {
    "scrolled": true
   },
   "outputs": [
    {
     "data": {
      "text/plain": [
       "count                  119962\n",
       "unique                  98921\n",
       "top       2016-04-18 00:00:00\n",
       "freq                       39\n",
       "first     2013-10-01 09:31:00\n",
       "last      2020-08-26 09:19:00\n",
       "Name: Outcome Date, dtype: object"
      ]
     },
     "execution_count": 153,
     "metadata": {},
     "output_type": "execute_result"
    }
   ],
   "source": [
    "outcomes['Outcome Date'] =  pd.to_datetime(outcomes['DateTime'])\n",
    "outcomes['Outcome Date'].describe()"
   ]
  },
  {
   "cell_type": "code",
   "execution_count": 154,
   "metadata": {
    "scrolled": true
   },
   "outputs": [
    {
     "data": {
      "text/plain": [
       "Adoption           52875\n",
       "Transfer           35640\n",
       "Return to Owner    20947\n",
       "Euthanasia          8112\n",
       "Died                1122\n",
       "Rto-Adopt            636\n",
       "Disposal             536\n",
       "Missing               67\n",
       "Relocate              21\n",
       "Name: Outcome Type, dtype: int64"
      ]
     },
     "execution_count": 154,
     "metadata": {},
     "output_type": "execute_result"
    }
   ],
   "source": [
    "outcomes['Outcome Type'].value_counts()"
   ]
  },
  {
   "cell_type": "code",
   "execution_count": 155,
   "metadata": {
    "scrolled": true
   },
   "outputs": [
    {
     "data": {
      "text/plain": [
       "Partner        29824\n",
       "Foster          9864\n",
       "Rabies Risk     3531\n",
       "SCRP            3211\n",
       "Suffering       3155\n",
       "Snr             2601\n",
       "In Kennel        572\n",
       "Aggressive       536\n",
       "Offsite          383\n",
       "Medical          301\n",
       "Name: Outcome Subtype, dtype: int64"
      ]
     },
     "execution_count": 155,
     "metadata": {},
     "output_type": "execute_result"
    }
   ],
   "source": [
    "outcomes['Outcome Subtype'].value_counts()[:10]"
   ]
  },
  {
   "cell_type": "markdown",
   "metadata": {},
   "source": [
    "## Data Preparation"
   ]
  },
  {
   "cell_type": "markdown",
   "metadata": {},
   "source": [
    "### Data Cleaning\n",
    "\n",
    "For the intake and outcome files, I make them easier to work with by normalizing column names and dropping unnecessary columns."
   ]
  },
  {
   "cell_type": "code",
   "execution_count": 156,
   "metadata": {},
   "outputs": [],
   "source": [
    "# Make column names easier to use\n",
    "intakes.columns = intakes.columns.str.lower().str.replace(' ', '_')\n",
    "\n",
    "# Drop unnecessary columns\n",
    "intakes.drop(columns = ['name', 'datetime', 'monthyear', 'found_location', 'age_upon_intake', 'color'], inplace=True )"
   ]
  },
  {
   "cell_type": "code",
   "execution_count": 157,
   "metadata": {},
   "outputs": [],
   "source": [
    "# Make column names easier to use\n",
    "outcomes.columns = outcomes.columns.str.lower().str.replace(' ', '_')\n",
    "\n",
    "# Drop unnecessary columns\n",
    "outcomes.drop(columns = ['name', 'datetime', 'monthyear', 'date_of_birth', 'age_upon_outcome', 'sex_upon_outcome', 'animal_type', 'breed', 'color'], inplace=True )"
   ]
  },
  {
   "cell_type": "markdown",
   "metadata": {},
   "source": [
    "### Merging Datasets\n",
    "\n",
    "Before merging the datasets, I create a new `event_num` variable indexing the count of the intake or outcome for each animal ID. This will allow for a 1:1 merge."
   ]
  },
  {
   "cell_type": "code",
   "execution_count": 158,
   "metadata": {},
   "outputs": [],
   "source": [
    "intakes['event_num'] = intakes.sort_values(['intake_date']).groupby(['animal_id']).rank()\n",
    "outcomes['event_num'] = outcomes.sort_values(['outcome_date']).groupby(['animal_id']).rank()"
   ]
  },
  {
   "cell_type": "markdown",
   "metadata": {},
   "source": [
    "Combining the two files yields a single dataset for feature engineering and analysis. I exclude any unmatched outcome or intake data to ensure there are no missing values for the date features. I also exclude mismatched data so that analyses of stay lengths do not end including animals with negative numbers of days in shelter."
   ]
  },
  {
   "cell_type": "code",
   "execution_count": 159,
   "metadata": {},
   "outputs": [],
   "source": [
    "# Merge intakes and outcomes on animal id and year\n",
    "animal_shelter_df  = pd.merge(intakes, \n",
    "                              outcomes, \n",
    "                              on=['animal_id', 'event_num'], \n",
    "                              how='left')"
   ]
  },
  {
   "cell_type": "code",
   "execution_count": 160,
   "metadata": {},
   "outputs": [],
   "source": [
    "# Filter out animals who have yet to have outcomes and keeps animals where outcome data is later than intake date\n",
    "animal_shelter_df = animal_shelter_df[(~animal_shelter_df['outcome_date'].isna()) \n",
    "                                    & (animal_shelter_df['outcome_date'] > animal_shelter_df['intake_date'])]\n",
    "    \n",
    "# Sorts the column names to be alphabetical\n",
    "animal_shelter_df = animal_shelter_df[animal_shelter_df.columns.sort_values()]"
   ]
  },
  {
   "cell_type": "code",
   "execution_count": 161,
   "metadata": {
    "scrolled": true
   },
   "outputs": [
    {
     "data": {
      "text/html": [
       "<div>\n",
       "<style scoped>\n",
       "    .dataframe tbody tr th:only-of-type {\n",
       "        vertical-align: middle;\n",
       "    }\n",
       "\n",
       "    .dataframe tbody tr th {\n",
       "        vertical-align: top;\n",
       "    }\n",
       "\n",
       "    .dataframe thead th {\n",
       "        text-align: right;\n",
       "    }\n",
       "</style>\n",
       "<table border=\"1\" class=\"dataframe\">\n",
       "  <thead>\n",
       "    <tr style=\"text-align: right;\">\n",
       "      <th></th>\n",
       "      <th>animal_id</th>\n",
       "      <th>animal_type</th>\n",
       "      <th>breed</th>\n",
       "      <th>event_num</th>\n",
       "      <th>intake_condition</th>\n",
       "      <th>intake_date</th>\n",
       "      <th>intake_type</th>\n",
       "      <th>outcome_date</th>\n",
       "      <th>outcome_subtype</th>\n",
       "      <th>outcome_type</th>\n",
       "      <th>sex_upon_intake</th>\n",
       "    </tr>\n",
       "  </thead>\n",
       "  <tbody>\n",
       "    <tr>\n",
       "      <th>0</th>\n",
       "      <td>A786884</td>\n",
       "      <td>Dog</td>\n",
       "      <td>Beagle Mix</td>\n",
       "      <td>1.0</td>\n",
       "      <td>Normal</td>\n",
       "      <td>2019-01-03 16:19:00</td>\n",
       "      <td>Stray</td>\n",
       "      <td>2019-01-08 15:11:00</td>\n",
       "      <td>Partner</td>\n",
       "      <td>Transfer</td>\n",
       "      <td>Neutered Male</td>\n",
       "    </tr>\n",
       "    <tr>\n",
       "      <th>1</th>\n",
       "      <td>A706918</td>\n",
       "      <td>Dog</td>\n",
       "      <td>English Springer Spaniel</td>\n",
       "      <td>1.0</td>\n",
       "      <td>Normal</td>\n",
       "      <td>2015-07-05 12:59:00</td>\n",
       "      <td>Stray</td>\n",
       "      <td>2015-07-05 15:13:00</td>\n",
       "      <td>NaN</td>\n",
       "      <td>Return to Owner</td>\n",
       "      <td>Spayed Female</td>\n",
       "    </tr>\n",
       "    <tr>\n",
       "      <th>2</th>\n",
       "      <td>A724273</td>\n",
       "      <td>Dog</td>\n",
       "      <td>Basenji Mix</td>\n",
       "      <td>1.0</td>\n",
       "      <td>Normal</td>\n",
       "      <td>2016-04-14 18:43:00</td>\n",
       "      <td>Stray</td>\n",
       "      <td>2016-04-21 17:17:00</td>\n",
       "      <td>NaN</td>\n",
       "      <td>Return to Owner</td>\n",
       "      <td>Intact Male</td>\n",
       "    </tr>\n",
       "  </tbody>\n",
       "</table>\n",
       "</div>"
      ],
      "text/plain": [
       "  animal_id animal_type                     breed  event_num intake_condition  \\\n",
       "0   A786884         Dog                Beagle Mix        1.0           Normal   \n",
       "1   A706918         Dog  English Springer Spaniel        1.0           Normal   \n",
       "2   A724273         Dog               Basenji Mix        1.0           Normal   \n",
       "\n",
       "          intake_date intake_type        outcome_date outcome_subtype  \\\n",
       "0 2019-01-03 16:19:00       Stray 2019-01-08 15:11:00         Partner   \n",
       "1 2015-07-05 12:59:00       Stray 2015-07-05 15:13:00             NaN   \n",
       "2 2016-04-14 18:43:00       Stray 2016-04-21 17:17:00             NaN   \n",
       "\n",
       "      outcome_type sex_upon_intake  \n",
       "0         Transfer   Neutered Male  \n",
       "1  Return to Owner   Spayed Female  \n",
       "2  Return to Owner     Intact Male  "
      ]
     },
     "execution_count": 161,
     "metadata": {},
     "output_type": "execute_result"
    }
   ],
   "source": [
    "animal_shelter_df.head(3)"
   ]
  },
  {
   "cell_type": "markdown",
   "metadata": {},
   "source": [
    "### Feature Engineering\n",
    "\n",
    "I create a `days_in_shelter` feature to analyze the amount of time animals spend at AAC."
   ]
  },
  {
   "cell_type": "code",
   "execution_count": 162,
   "metadata": {},
   "outputs": [],
   "source": [
    "animal_shelter_df['days_in_shelter'] = (animal_shelter_df['outcome_date'] - animal_shelter_df['intake_date']).dt.days"
   ]
  },
  {
   "cell_type": "markdown",
   "metadata": {},
   "source": [
    "I create `year_month` features for aggregating values by month in my analysis."
   ]
  },
  {
   "cell_type": "code",
   "execution_count": 163,
   "metadata": {
    "scrolled": true
   },
   "outputs": [],
   "source": [
    "# NOTE TO STUDENTS: You will learn better methods for handling time series data later in the course\n",
    "\n",
    "animal_shelter_df['intake_year_month'] = animal_shelter_df['intake_date'].apply(lambda x: str(x.year) + '-' + x.strftime('%m'))\n",
    "animal_shelter_df['outcome_year_month'] = animal_shelter_df['outcome_date'].apply(lambda x: str(x.year) + '-' + x.strftime('%m'))"
   ]
  },
  {
   "cell_type": "code",
   "execution_count": 164,
   "metadata": {},
   "outputs": [
    {
     "data": {
      "text/html": [
       "<div>\n",
       "<style scoped>\n",
       "    .dataframe tbody tr th:only-of-type {\n",
       "        vertical-align: middle;\n",
       "    }\n",
       "\n",
       "    .dataframe tbody tr th {\n",
       "        vertical-align: top;\n",
       "    }\n",
       "\n",
       "    .dataframe thead th {\n",
       "        text-align: right;\n",
       "    }\n",
       "</style>\n",
       "<table border=\"1\" class=\"dataframe\">\n",
       "  <thead>\n",
       "    <tr style=\"text-align: right;\">\n",
       "      <th></th>\n",
       "      <th>animal_id</th>\n",
       "      <th>animal_type</th>\n",
       "      <th>breed</th>\n",
       "      <th>event_num</th>\n",
       "      <th>intake_condition</th>\n",
       "      <th>intake_date</th>\n",
       "      <th>intake_type</th>\n",
       "      <th>outcome_date</th>\n",
       "      <th>outcome_subtype</th>\n",
       "      <th>outcome_type</th>\n",
       "      <th>sex_upon_intake</th>\n",
       "      <th>days_in_shelter</th>\n",
       "      <th>intake_year_month</th>\n",
       "      <th>outcome_year_month</th>\n",
       "    </tr>\n",
       "  </thead>\n",
       "  <tbody>\n",
       "    <tr>\n",
       "      <th>0</th>\n",
       "      <td>A786884</td>\n",
       "      <td>Dog</td>\n",
       "      <td>Beagle Mix</td>\n",
       "      <td>1.0</td>\n",
       "      <td>Normal</td>\n",
       "      <td>2019-01-03 16:19:00</td>\n",
       "      <td>Stray</td>\n",
       "      <td>2019-01-08 15:11:00</td>\n",
       "      <td>Partner</td>\n",
       "      <td>Transfer</td>\n",
       "      <td>Neutered Male</td>\n",
       "      <td>4</td>\n",
       "      <td>2019-01</td>\n",
       "      <td>2019-01</td>\n",
       "    </tr>\n",
       "    <tr>\n",
       "      <th>1</th>\n",
       "      <td>A706918</td>\n",
       "      <td>Dog</td>\n",
       "      <td>English Springer Spaniel</td>\n",
       "      <td>1.0</td>\n",
       "      <td>Normal</td>\n",
       "      <td>2015-07-05 12:59:00</td>\n",
       "      <td>Stray</td>\n",
       "      <td>2015-07-05 15:13:00</td>\n",
       "      <td>NaN</td>\n",
       "      <td>Return to Owner</td>\n",
       "      <td>Spayed Female</td>\n",
       "      <td>0</td>\n",
       "      <td>2015-07</td>\n",
       "      <td>2015-07</td>\n",
       "    </tr>\n",
       "    <tr>\n",
       "      <th>2</th>\n",
       "      <td>A724273</td>\n",
       "      <td>Dog</td>\n",
       "      <td>Basenji Mix</td>\n",
       "      <td>1.0</td>\n",
       "      <td>Normal</td>\n",
       "      <td>2016-04-14 18:43:00</td>\n",
       "      <td>Stray</td>\n",
       "      <td>2016-04-21 17:17:00</td>\n",
       "      <td>NaN</td>\n",
       "      <td>Return to Owner</td>\n",
       "      <td>Intact Male</td>\n",
       "      <td>6</td>\n",
       "      <td>2016-04</td>\n",
       "      <td>2016-04</td>\n",
       "    </tr>\n",
       "  </tbody>\n",
       "</table>\n",
       "</div>"
      ],
      "text/plain": [
       "  animal_id animal_type                     breed  event_num intake_condition  \\\n",
       "0   A786884         Dog                Beagle Mix        1.0           Normal   \n",
       "1   A706918         Dog  English Springer Spaniel        1.0           Normal   \n",
       "2   A724273         Dog               Basenji Mix        1.0           Normal   \n",
       "\n",
       "          intake_date intake_type        outcome_date outcome_subtype  \\\n",
       "0 2019-01-03 16:19:00       Stray 2019-01-08 15:11:00         Partner   \n",
       "1 2015-07-05 12:59:00       Stray 2015-07-05 15:13:00             NaN   \n",
       "2 2016-04-14 18:43:00       Stray 2016-04-21 17:17:00             NaN   \n",
       "\n",
       "      outcome_type sex_upon_intake  days_in_shelter intake_year_month  \\\n",
       "0         Transfer   Neutered Male                4           2019-01   \n",
       "1  Return to Owner   Spayed Female                0           2015-07   \n",
       "2  Return to Owner     Intact Male                6           2016-04   \n",
       "\n",
       "  outcome_year_month  \n",
       "0            2019-01  \n",
       "1            2015-07  \n",
       "2            2016-04  "
      ]
     },
     "execution_count": 164,
     "metadata": {},
     "output_type": "execute_result"
    }
   ],
   "source": [
    "animal_shelter_df.head(3)"
   ]
  },
  {
   "cell_type": "code",
   "execution_count": 165,
   "metadata": {},
   "outputs": [],
   "source": [
    "# Save cleaned dataset as CSV\n",
    "animal_shelter_df.to_csv('./data/cleaned_animal_center_df.csv')"
   ]
  },
  {
   "cell_type": "markdown",
   "metadata": {},
   "source": [
    "## Analysis"
   ]
  },
  {
   "cell_type": "code",
   "execution_count": 166,
   "metadata": {},
   "outputs": [],
   "source": [
    "import matplotlib\n",
    "import matplotlib.pyplot as plt\n",
    "\n",
    "%matplotlib inline"
   ]
  },
  {
   "cell_type": "markdown",
   "metadata": {},
   "source": [
    "### Length of Stay\n",
    "\n",
    "Most animals have short stays at AAC, with a median of 5 days. However, some animals take a very long time to exit - sometimes over 6 months! These extended stays may be partly a result of AAC's No Kill policy."
   ]
  },
  {
   "cell_type": "code",
   "execution_count": 167,
   "metadata": {
    "scrolled": true
   },
   "outputs": [
    {
     "data": {
      "text/plain": [
       "count    118350.000000\n",
       "mean         17.500625\n",
       "std          41.767333\n",
       "min           0.000000\n",
       "25%           1.000000\n",
       "50%           5.000000\n",
       "75%          14.000000\n",
       "max        1521.000000\n",
       "Name: days_in_shelter, dtype: float64"
      ]
     },
     "execution_count": 167,
     "metadata": {},
     "output_type": "execute_result"
    }
   ],
   "source": [
    "animal_shelter_df['days_in_shelter'].describe()"
   ]
  },
  {
   "cell_type": "code",
   "execution_count": 170,
   "metadata": {
    "scrolled": true
   },
   "outputs": [
    {
     "data": {
      "image/png": "[encoded data removed]",
      "text/plain": [
       "<Figure size 720x288 with 2 Axes>"
      ]
     },
     "metadata": {
      "needs_background": "light"
     },
     "output_type": "display_data"
    }
   ],
   "source": [
    "# Create plot\n",
    "stay_length_fig, stay_length_axes = plt.subplots(nrows=1, ncols=2, figsize=(10, 4))\n",
    "\n",
    "stay_length_axes[0].set_title('Short Stays (< 15 Days)')\n",
    "stay_length_axes[0].set_ylabel('Number of Animals')\n",
    "stay_length_axes[0].set_xlabel('Days of Shelter')\n",
    "\n",
    "stay_length_axes[1].set_title('Long Stays (> 180 Days)')\n",
    "stay_length_axes[1].set_ylabel('Number of Animals')\n",
    "stay_length_axes[1].set_xlabel('Days of Shelter')\n",
    "\n",
    "stay_lengths_low = animal_shelter_df['days_in_shelter'][animal_shelter_df['days_in_shelter'] < 15]\n",
    "stay_lengths_high = animal_shelter_df['days_in_shelter'][animal_shelter_df['days_in_shelter'] > 180]\n",
    "\n",
    "stay_length_axes[0].hist(stay_lengths_low, bins=15)\n",
    "stay_length_axes[1].hist(stay_lengths_high, bins=30)\n",
    "\n",
    "plt.savefig(\"./images/stay_distributions.png\", dpi=150)\n",
    "plt.show()"
   ]
  },
  {
   "cell_type": "markdown",
   "metadata": {},
   "source": [
    "### Animals with Long Stays\n",
    "\n",
    "AAC primarily shelters cats and dogs - cats have slightly longer stays, on average. However, dogs are more likely to have long stays of over 180 days."
   ]
  },
  {
   "cell_type": "code",
   "execution_count": 108,
   "metadata": {},
   "outputs": [
    {
     "data": {
      "text/html": [
       "<div>\n",
       "<style scoped>\n",
       "    .dataframe tbody tr th:only-of-type {\n",
       "        vertical-align: middle;\n",
       "    }\n",
       "\n",
       "    .dataframe tbody tr th {\n",
       "        vertical-align: top;\n",
       "    }\n",
       "\n",
       "    .dataframe thead tr th {\n",
       "        text-align: left;\n",
       "    }\n",
       "\n",
       "    .dataframe thead tr:last-of-type th {\n",
       "        text-align: right;\n",
       "    }\n",
       "</style>\n",
       "<table border=\"1\" class=\"dataframe\">\n",
       "  <thead>\n",
       "    <tr>\n",
       "      <th></th>\n",
       "      <th colspan=\"3\" halign=\"left\">days_in_shelter</th>\n",
       "    </tr>\n",
       "    <tr>\n",
       "      <th></th>\n",
       "      <th>count</th>\n",
       "      <th>median</th>\n",
       "      <th>mean</th>\n",
       "    </tr>\n",
       "    <tr>\n",
       "      <th>animal_type</th>\n",
       "      <th></th>\n",
       "      <th></th>\n",
       "      <th></th>\n",
       "    </tr>\n",
       "  </thead>\n",
       "  <tbody>\n",
       "    <tr>\n",
       "      <th>Bird</th>\n",
       "      <td>548</td>\n",
       "      <td>3</td>\n",
       "      <td>8.102190</td>\n",
       "    </tr>\n",
       "    <tr>\n",
       "      <th>Cat</th>\n",
       "      <td>44176</td>\n",
       "      <td>6</td>\n",
       "      <td>21.204025</td>\n",
       "    </tr>\n",
       "    <tr>\n",
       "      <th>Dog</th>\n",
       "      <td>67324</td>\n",
       "      <td>5</td>\n",
       "      <td>16.394881</td>\n",
       "    </tr>\n",
       "    <tr>\n",
       "      <th>Livestock</th>\n",
       "      <td>18</td>\n",
       "      <td>22</td>\n",
       "      <td>83.777778</td>\n",
       "    </tr>\n",
       "    <tr>\n",
       "      <th>Other</th>\n",
       "      <td>6284</td>\n",
       "      <td>0</td>\n",
       "      <td>3.942234</td>\n",
       "    </tr>\n",
       "  </tbody>\n",
       "</table>\n",
       "</div>"
      ],
      "text/plain": [
       "            days_in_shelter                  \n",
       "                      count median       mean\n",
       "animal_type                                  \n",
       "Bird                    548      3   8.102190\n",
       "Cat                   44176      6  21.204025\n",
       "Dog                   67324      5  16.394881\n",
       "Livestock                18     22  83.777778\n",
       "Other                  6284      0   3.942234"
      ]
     },
     "execution_count": 108,
     "metadata": {},
     "output_type": "execute_result"
    }
   ],
   "source": [
    "animal_shelter_df[['animal_type','days_in_shelter']].groupby(['animal_type']).agg(['count', 'median', 'mean'])"
   ]
  },
  {
   "cell_type": "code",
   "execution_count": 142,
   "metadata": {},
   "outputs": [],
   "source": [
    "def stay_length_type(days):\n",
    "    '''\n",
    "    This function takes in a number of days and returns a descriptive string. \n",
    "    This is used to categorize animal stay lengths for further analysis.\n",
    "    \n",
    "    Less than 15 days: 'Short'\n",
    "    15 to 180 days: 'Medium'\n",
    "    More than 180 days: 'Long'\n",
    "    '''\n",
    "    if (days < 15):\n",
    "        return 'Short'\n",
    "    elif (days > 180):\n",
    "        return 'Long'\n",
    "    else:\n",
    "        return 'Medium'"
   ]
  },
  {
   "cell_type": "code",
   "execution_count": 105,
   "metadata": {},
   "outputs": [],
   "source": [
    "animal_shelter_df['stay_length'] = animal_shelter_df['days_in_shelter'].apply(stay_length_type)"
   ]
  },
  {
   "cell_type": "code",
   "execution_count": 110,
   "metadata": {},
   "outputs": [
    {
     "data": {
      "text/html": [
       "<div>\n",
       "<style scoped>\n",
       "    .dataframe tbody tr th:only-of-type {\n",
       "        vertical-align: middle;\n",
       "    }\n",
       "\n",
       "    .dataframe tbody tr th {\n",
       "        vertical-align: top;\n",
       "    }\n",
       "\n",
       "    .dataframe thead th {\n",
       "        text-align: right;\n",
       "    }\n",
       "</style>\n",
       "<table border=\"1\" class=\"dataframe\">\n",
       "  <thead>\n",
       "    <tr style=\"text-align: right;\">\n",
       "      <th>stay_length</th>\n",
       "      <th>Long</th>\n",
       "      <th>Medium</th>\n",
       "      <th>Short</th>\n",
       "    </tr>\n",
       "    <tr>\n",
       "      <th>animal_type</th>\n",
       "      <th></th>\n",
       "      <th></th>\n",
       "      <th></th>\n",
       "    </tr>\n",
       "  </thead>\n",
       "  <tbody>\n",
       "    <tr>\n",
       "      <th>Bird</th>\n",
       "      <td>0.000833</td>\n",
       "      <td>0.004207</td>\n",
       "      <td>0.004816</td>\n",
       "    </tr>\n",
       "    <tr>\n",
       "      <th>Cat</th>\n",
       "      <td>0.312240</td>\n",
       "      <td>0.517378</td>\n",
       "      <td>0.328225</td>\n",
       "    </tr>\n",
       "    <tr>\n",
       "      <th>Dog</th>\n",
       "      <td>0.676103</td>\n",
       "      <td>0.463848</td>\n",
       "      <td>0.600826</td>\n",
       "    </tr>\n",
       "    <tr>\n",
       "      <th>Livestock</th>\n",
       "      <td>0.004163</td>\n",
       "      <td>0.000212</td>\n",
       "      <td>0.000079</td>\n",
       "    </tr>\n",
       "    <tr>\n",
       "      <th>Other</th>\n",
       "      <td>0.006661</td>\n",
       "      <td>0.014355</td>\n",
       "      <td>0.066055</td>\n",
       "    </tr>\n",
       "  </tbody>\n",
       "</table>\n",
       "</div>"
      ],
      "text/plain": [
       "stay_length      Long    Medium     Short\n",
       "animal_type                              \n",
       "Bird         0.000833  0.004207  0.004816\n",
       "Cat          0.312240  0.517378  0.328225\n",
       "Dog          0.676103  0.463848  0.600826\n",
       "Livestock    0.004163  0.000212  0.000079\n",
       "Other        0.006661  0.014355  0.066055"
      ]
     },
     "execution_count": 110,
     "metadata": {},
     "output_type": "execute_result"
    }
   ],
   "source": [
    "stay_length_type_by_animal_type = pd.crosstab(animal_shelter_df['animal_type'], animal_shelter_df['stay_length'], normalize = 'columns')\n",
    "stay_length_type_by_animal_type"
   ]
  },
  {
   "cell_type": "code",
   "execution_count": 171,
   "metadata": {},
   "outputs": [
    {
     "data": {
      "image/png": "[encoded data removed]",
      "text/plain": [
       "<Figure size 720x432 with 1 Axes>"
      ]
     },
     "metadata": {
      "needs_background": "light"
     },
     "output_type": "display_data"
    }
   ],
   "source": [
    "import matplotlib.ticker as mtick\n",
    "\n",
    "stay_length_type_by_animal_fig, stay_length_type_by_animal_ax = plt.subplots(figsize=(10, 6))\n",
    "\n",
    "stay_length_type_by_animal_ax.set_title('Stay Lengths by Animal Type')\n",
    "stay_length_type_by_animal_ax.set_ylabel('Percent of Sheltered Animals')\n",
    "stay_length_type_by_animal_ax.set_xlabel('Stay Lengths')\n",
    "\n",
    "stay_lengths = stay_length_type_by_animal_type.columns\n",
    "cat_lengths = stay_length_type_by_animal_type.loc['Cat']*100\n",
    "dog_lengths = stay_length_type_by_animal_type.loc['Dog']*100\n",
    "\n",
    "dog_bar_plt = stay_length_type_by_animal_ax.bar(stay_lengths, dog_lengths )\n",
    "cat_bar_plt = stay_length_type_by_animal_ax.bar(stay_lengths, cat_lengths, bottom = dog_lengths )\n",
    "\n",
    "stay_length_type_by_animal_ax.legend([cat_bar_plt, dog_bar_plt], ['Cats', 'Dogs'], loc = 'upper left')\n",
    "stay_length_type_by_animal_ax.yaxis.set_major_formatter(mtick.PercentFormatter())\n",
    "\n",
    "plt.savefig(\"./images/stay_lengths_by_type.png\", dpi=150)\n",
    "plt.show()"
   ]
  },
  {
   "cell_type": "markdown",
   "metadata": {},
   "source": [
    "### Seasonality of Intake and Exit Volume\n",
    "\n",
    "The number of animal intakes typically peaks in the spring and bottoms out in the fall and winter. Animal exits follow a similar trend, but tend to lag behind intakes by about one month. This pattern does not seem to hold in 2020, possibly as a result of the COVID-19 pandemic."
   ]
  },
  {
   "cell_type": "code",
   "execution_count": 173,
   "metadata": {},
   "outputs": [
    {
     "data": {
      "image/png": "[encoded data removed]",
      "text/plain": [
       "<Figure size 720x432 with 1 Axes>"
      ]
     },
     "metadata": {
      "needs_background": "light"
     },
     "output_type": "display_data"
    }
   ],
   "source": [
    "months = animal_shelter_df['intake_year_month'].sort_values().unique()\n",
    "\n",
    "# Counts of Intakes and exits by Month\n",
    "intakes_by_month = animal_shelter_df[['intake_year_month', 'animal_id']].groupby('intake_year_month').count()\n",
    "exits_by_month = animal_shelter_df[['outcome_year_month', 'animal_id']].groupby('outcome_year_month').count()\n",
    "\n",
    "in_out_df = pd.DataFrame(intakes_by_month).rename(columns={'animal_id': 'Number of Intakes'})\n",
    "in_out_df['Number of Exits'] = exits_by_month\n",
    "\n",
    "# Create plot\n",
    "in_out_fig, in_out_ax = plt.subplots(figsize=(10, 6))\n",
    "\n",
    "in_out_ax.set_title('Intakes and Exits by Month')\n",
    "in_out_ax.set_ylabel('Number of Animals')\n",
    "in_out_ax.set_xlabel('Month')\n",
    "\n",
    "in_plt, out_plt = in_out_ax.plot(in_out_df)\n",
    "\n",
    "in_out_ax.legend([in_plt, out_plt], ['Number of Intakes', 'Number of Exits'], loc = 'lower left')\n",
    "plt.xticks(months[::3], rotation = 70)\n",
    "plt.grid()\n",
    "\n",
    "plt.savefig(\"./images/in_out_by_month.png\", dpi=150)\n",
    "plt.grid()\n",
    "plt.show()"
   ]
  },
  {
   "cell_type": "markdown",
   "metadata": {},
   "source": [
    "### Seasonality of Sheltered Animal Counts\n",
    "\n",
    "The total number of sheltered animals typically peaks in May of each year and then hits its lowest point around January. There is often a secondary peak sometime after May before the number of sheltered animals drops rapidly. The number of sheltered animals has dropped precipitously in 2020, likely as a result of COVID-19."
   ]
  },
  {
   "cell_type": "code",
   "execution_count": 174,
   "metadata": {},
   "outputs": [
    {
     "data": {
      "image/png": "[encoded data removed]",
      "text/plain": [
       "<Figure size 720x432 with 1 Axes>"
      ]
     },
     "metadata": {
      "needs_background": "light"
     },
     "output_type": "display_data"
    }
   ],
   "source": [
    "# Net Change in Sheltered Animal Counts\n",
    "in_out_df['Change in Sheltered Animal Counts'] = in_out_df['Number of Intakes'] - in_out_df['Number of Exits']\n",
    "in_out_df['Total Sheltered Animal Counts'] = in_out_df['Change in Sheltered Animal Counts'].sort_index().cumsum()\n",
    "in_out_df['Total Sheltered Animal Counts'] = in_out_df['Total Sheltered Animal Counts'] + in_out_df['Total Sheltered Animal Counts'].min()\n",
    "\n",
    "# Create Plot\n",
    "shelter_count_fig, shelter_count_ax = plt.subplots(figsize=(10, 6))\n",
    "\n",
    "shelter_count_ax.set_title('Sheltered Animal Counts by Month')\n",
    "shelter_count_ax.set_ylabel('Number of Animals')\n",
    "shelter_count_ax.set_xlabel('Month')\n",
    "\n",
    "shelter_count_plt, shelter_change_plt = shelter_count_ax.plot(in_out_df[['Total Sheltered Animal Counts', 'Change in Sheltered Animal Counts']])\n",
    "\n",
    "shelter_count_ax.legend([shelter_count_plt, shelter_change_plt], ['Total Sheltered Animal Counts', 'Change in Sheltered Animal Counts'], loc = 'upper left')\n",
    "plt.xticks(months[::3], rotation = 70)\n",
    "plt.grid()\n",
    "\n",
    "plt.savefig(\"./images/sheltered_by_month.png\", dpi=150)\n",
    "plt.grid()\n",
    "plt.show()"
   ]
  },
  {
   "cell_type": "markdown",
   "metadata": {},
   "source": [
    "## Conclusions\n",
    "\n",
    "This analysis leads to three recommendations for improving operations of the Austin Animal Center:\n",
    "\n",
    "- **Engage in targeted outreach campaigns for dogs that have been sheltered at AAC for more than 30 days.** While most dogs will have been placed after 30 days, this may help reduce the number of dogs that end up having extended stays, potentially requiring many more months of care.\n",
    "- **Reduce current spending until the numbers of intakes and sheltered animals return to normal.** Given the reduced activity during this period, AAC should consider ways to temporarily reduce costs by changing space utilization or staffing.\n",
    "- **Hire seasonal staff and rent temporary space for May through December.** To accommodate the high volume of intakes and number of sheltered animals in the spring and fall, AAC should leverage seasonal resources, rather than full-year ones. This will allow AAC to cut back on expenditures during the months when there is lower"
   ]
  },
  {
   "cell_type": "markdown",
   "metadata": {},
   "source": [
    "### Next Steps\n",
    "\n",
    "Further analyses could yield additional insights to further improve operations at AAC:\n",
    "\n",
    "- **Better prediction of animals that are likely to have long stays.** This modeling could use already available data, such as breed and intake condition.\n",
    "- **Model need for medical support.** This modeling could predict the need for specialized personnel to address animals' medical needs, including neutering, using intake condition and sex data.\n",
    "- **Predicting undesirable outcomes.** This modeling could identify animals that are more likely to have undesirable outcomes (e.g. Euthanasia) for targeted medical support or outreach."
   ]
  },
  {
   "cell_type": "code",
   "execution_count": null,
   "metadata": {},
   "outputs": [],
   "source": []
  }
 ],
 "metadata": {
  "kernelspec": {
   "display_name": "Python 3",
   "language": "python",
   "name": "python3"
  },
  "language_info": {
   "codemirror_mode": {
    "name": "ipython",
    "version": 3
   },
   "file_extension": ".py",
   "mimetype": "text/x-python",
   "name": "python",
   "nbconvert_exporter": "python",
   "pygments_lexer": "ipython3",
   "version": "3.7.6"
  }
 },
 "nbformat": 4,
 "nbformat_minor": 4
}
